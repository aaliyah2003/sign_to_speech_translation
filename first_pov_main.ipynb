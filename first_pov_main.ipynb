{
 "cells": [
  {
   "cell_type": "markdown",
   "metadata": {},
   "source": [
    "# 1. Import and Install Dependencies"
   ]
  },
  {
   "cell_type": "code",
   "execution_count": null,
   "metadata": {
    "scrolled": true,
    "tags": []
   },
   "outputs": [],
   "source": [
    "import cv2\n",
    "import numpy as np\n",
    "import os\n",
    "import time\n",
    "import mediapipe as mp\n",
    "from tensorflow.keras.models import Sequential, load_model\n",
    "from tensorflow.keras.layers import LSTM, Dense\n",
    "import pyttsx3\n",
    "import threading\n",
    "from transformers import AutoTokenizer, TFAutoModelForSeq2SeqLM\n",
    "from googletrans import Translator\n",
    "from gtts import gTTS\n",
    "import soundfile as sf\n",
    "import io\n",
    "import tempfile\n",
    "from scipy import stats\n",
    "import random"
   ]
  },
  {
   "cell_type": "code",
   "execution_count": null,
   "metadata": {
    "tags": []
   },
   "outputs": [],
   "source": [
    "# Initialize MediaPipe Hands solution\n",
    "mp_hands = mp.solutions.hands\n",
    "mp_drawing = mp.solutions.drawing_utils\n",
    "\n",
    "# Initialize NLU Model\n",
    "model_NLU = TFAutoModelForSeq2SeqLM.from_pretrained(\"./fine_tuned_t5(3)/\")\n",
    "tokenizer = AutoTokenizer.from_pretrained(\"./fine_tuned_t5(3)/\")"
   ]
  },
  {
   "cell_type": "code",
   "execution_count": null,
   "metadata": {
    "tags": []
   },
   "outputs": [],
   "source": [
    "# Actions and colors\n",
    "actions = np.array(['hello', 'good', 'morning', 'thank you', 'name', 'you', 'I', 'work', 'engineer', 'from', 'okay', \n",
    "                    'fine', 'mumbai', 'how', 'what', 'who', 'fullstop','no'])\n",
    "colors = [tuple(random.randint(0, 255) for _ in range(3)) for _ in range(len(actions))]  # Random colors"
   ]
  },
  {
   "cell_type": "code",
   "execution_count": null,
   "metadata": {
    "tags": []
   },
   "outputs": [],
   "source": [
    "from tensorflow.keras.optimizers import Adam\n",
    "# Load pre-trained action recognition model (LSTM-based)\n",
    "model = Sequential()\n",
    "model.add(LSTM(64, return_sequences=True, input_shape=(30, 126)))  # First LSTM layer returns sequences\n",
    "model.add(LSTM(64, return_sequences=False))  # Second LSTM layer outputs only the final vector\n",
    "model.add(Dense(64, activation='relu'))\n",
    "model.add(Dense(18, activation='softmax'))  # Output layer with 19 classes\n",
    "model.compile(optimizer=Adam(learning_rate=0.001), loss='sparse_categorical_crossentropy', metrics=['accuracy'])\n",
    "\n",
    "# Load model weights (use your actual model's path here)\n",
    "model.load_weights('./firstpov_model/model_epoch_24.h5')"
   ]
  },
  {
   "cell_type": "code",
   "execution_count": null,
   "metadata": {
    "tags": []
   },
   "outputs": [],
   "source": [
    "# Initialize translator\n",
    "translator = Translator()"
   ]
  },
  {
   "cell_type": "code",
   "execution_count": null,
   "metadata": {
    "tags": []
   },
   "outputs": [],
   "source": [
    "# Function definitions\n",
    "def mediapipe_hand_detection(image, model):\n",
    "    image = cv2.cvtColor(image, cv2.COLOR_BGR2RGB)\n",
    "    image.flags.writeable = False\n",
    "    results = model.process(image)\n",
    "    image.flags.writeable = True\n",
    "    image = cv2.cvtColor(image, cv2.COLOR_RGB2BGR)\n",
    "    return image, results\n",
    "\n",
    "def draw_hand_landmarks(image, results):\n",
    "    if results.multi_hand_landmarks:\n",
    "        for hand_landmarks in results.multi_hand_landmarks:\n",
    "            mp_drawing.draw_landmarks(\n",
    "                image,\n",
    "                hand_landmarks,\n",
    "                mp_hands.HAND_CONNECTIONS,\n",
    "                mp_drawing.DrawingSpec(color=(121,22,76), thickness=2, circle_radius=4),\n",
    "                mp_drawing.DrawingSpec(color=(121,44,250), thickness=2, circle_radius=2),\n",
    "            )"
   ]
  },
  {
   "cell_type": "code",
   "execution_count": null,
   "metadata": {
    "tags": []
   },
   "outputs": [],
   "source": [
    "def extract_keypoints(results):\n",
    "    lh = np.zeros(21 * 3)\n",
    "    rh = np.zeros(21 * 3)\n",
    "    if results.multi_hand_landmarks and results.multi_handedness:\n",
    "        for hand_index, hand_landmarks in enumerate(results.multi_hand_landmarks):\n",
    "            hand_label = results.multi_handedness[hand_index].classification[0].label\n",
    "            hand_array = np.array([[res.x, res.y, res.z] for res in hand_landmarks.landmark]).flatten()\n",
    "            if hand_label.lower() == \"left\":\n",
    "                lh = hand_array\n",
    "            elif hand_label.lower() == \"right\":\n",
    "                rh = hand_array\n",
    "    return np.concatenate([lh, rh])"
   ]
  },
  {
   "cell_type": "code",
   "execution_count": null,
   "metadata": {
    "tags": []
   },
   "outputs": [],
   "source": [
    "def prob_viz(res, actions, input_frame, colors):\n",
    "    output_frame = input_frame.copy()\n",
    "    for num, prob in enumerate(res):\n",
    "        cv2.rectangle(output_frame, (0,60+num*40), (int(prob*100), 90+num*40), colors[num], -1)\n",
    "        cv2.putText(output_frame, actions[num], (0, 85+num*40), cv2.FONT_HERSHEY_SIMPLEX, 1, (255,255,255), 2, cv2.LINE_AA)\n",
    "    return output_frame"
   ]
  },
  {
   "cell_type": "code",
   "execution_count": null,
   "metadata": {
    "tags": []
   },
   "outputs": [],
   "source": [
    "def select_language():\n",
    "    lang = None\n",
    "    cv2.namedWindow(\"Language Selection\")\n",
    "    \n",
    "    def mouse_callback(event, x, y, flags, param):\n",
    "        nonlocal lang\n",
    "        if event == cv2.EVENT_LBUTTONDOWN:\n",
    "            if 100 < y < 200:\n",
    "                if 50 < x < 250:  # English\n",
    "                    lang = 'en'\n",
    "                elif 300 < x < 500:  # Hindi\n",
    "                    lang = 'hi'\n",
    "                elif 550 < x < 750:  # Marathi\n",
    "                    lang = 'mr'\n",
    "\n",
    "    cv2.setMouseCallback(\"Language Selection\", mouse_callback)\n",
    "    \n",
    "    while lang is None:\n",
    "        img = np.zeros((300, 800, 3), dtype=np.uint8)\n",
    "        cv2.putText(img, \"Select Output Language\", (150, 50), \n",
    "                   cv2.FONT_HERSHEY_SIMPLEX, 1, (255,255,255), 2)\n",
    "        \n",
    "        cv2.rectangle(img, (50, 100), (250, 200), (0,255,0), -1)\n",
    "        cv2.putText(img, \"English\", (70, 150), cv2.FONT_HERSHEY_SIMPLEX, 0.8, (0,0,0), 2)\n",
    "        \n",
    "        cv2.rectangle(img, (300, 100), (500, 200), (255,0,0), -1)\n",
    "        cv2.putText(img, \"Hindi\", (330, 150), cv2.FONT_HERSHEY_SIMPLEX, 0.8, (0,0,0), 2)\n",
    "        \n",
    "        cv2.rectangle(img, (550, 100), (750, 200), (0,0,255), -1)\n",
    "        cv2.putText(img, \"Marathi\", (570, 150), cv2.FONT_HERSHEY_SIMPLEX, 0.8, (0,0,0), 2)\n",
    "        \n",
    "        cv2.imshow(\"Language Selection\", img)\n",
    "        if cv2.waitKey(1) & 0xFF == ord('q'):\n",
    "            break\n",
    "            \n",
    "    cv2.destroyWindow(\"Language Selection\")\n",
    "    return lang"
   ]
  },
  {
   "cell_type": "code",
   "execution_count": null,
   "metadata": {
    "tags": []
   },
   "outputs": [],
   "source": [
    "def nlu_and_tts(sign_sequence, selected_lang):\n",
    "    try:\n",
    "        if not sign_sequence:\n",
    "            return None\n",
    "            \n",
    "        input_text = ' '.join(sign_sequence)\n",
    "        print(f\"Processing: {input_text}\")  # Debug\n",
    "        \n",
    "        # NLU Processing\n",
    "        inputs = tokenizer.encode(input_text, return_tensors=\"tf\")\n",
    "        outputs = model_NLU.generate(inputs, max_length=50)\n",
    "        english_text = tokenizer.decode(outputs[0], skip_special_tokens=True)\n",
    "        print(f\"NLU Output: {english_text}\")  # Debug\n",
    "        \n",
    "        # Translation\n",
    "        translated = translator.translate(english_text, dest=selected_lang)\n",
    "        \n",
    "        # TTS with in-memory processing\n",
    "        tts = gTTS(translated.text, lang=selected_lang)\n",
    "        \n",
    "        # Use in-memory bytes buffer\n",
    "        fp = io.BytesIO()\n",
    "        tts.write_to_fp(fp)\n",
    "        fp.seek(0)\n",
    "        \n",
    "        # Play audio directly from memory\n",
    "        data, samplerate = sf.read(fp)\n",
    "        sd.play(data, samplerate)\n",
    "        sd.wait()\n",
    "        \n",
    "        return f\"Caption: {english_text}\"\n",
    "        \n",
    "    except Exception as e:\n",
    "        print(f\"Error in NLU/TTS: {str(e)}\")\n",
    "        return None"
   ]
  },
  {
   "cell_type": "code",
   "execution_count": null,
   "metadata": {
    "tags": []
   },
   "outputs": [],
   "source": [
    "def process_nlu_and_tts_thread(sign_sequence, selected_lang):\n",
    "    def wrapper():\n",
    "        caption = nlu_and_tts(sign_sequence, selected_lang)\n",
    "        if caption:\n",
    "            global current_caption\n",
    "            current_caption = caption\n",
    "    threading.Thread(target=wrapper).start()"
   ]
  },
  {
   "cell_type": "code",
   "execution_count": null,
   "metadata": {
    "tags": []
   },
   "outputs": [],
   "source": [
    "# Main execution\n",
    "selected_lang = select_language()\n",
    "\n",
    "# Show confirmation\n",
    "confirmation_img = np.zeros((200, 600, 3), dtype=np.uint8)\n",
    "cv2.putText(confirmation_img, f\"Speech output will be in {selected_lang}\", \n",
    "           (50, 100), cv2.FONT_HERSHEY_SIMPLEX, 1, (255,255,255), 2)\n",
    "cv2.imshow(\"Confirmation\", confirmation_img)\n",
    "cv2.waitKey(2000)\n",
    "cv2.destroyWindow(\"Confirmation\")\n",
    "\n",
    "# Initialize variables\n",
    "sequence = []\n",
    "sentence = []\n",
    "predictions = []\n",
    "sign_sequence = []\n",
    "threshold = 0.7\n",
    "last_prediction_time = 3\n",
    "cooldown_period = 3\n",
    "current_caption = \"\"\n",
    "cap = cv2.VideoCapture(1)\n",
    "\n",
    "def clean_sentence(sentence):\n",
    "    \"\"\"Remove fullstop and empty entries from sentence\"\"\"\n",
    "    return [word for word in sentence if word and word != 'fullstop']\n",
    "\n",
    "# Initialize MediaPipe after language selection\n",
    "with mp_hands.Hands(\n",
    "    static_image_mode=False,\n",
    "    max_num_hands=2,\n",
    "    min_detection_confidence=0.5,\n",
    "    min_tracking_confidence=0.5\n",
    ") as hands:\n",
    "    # Show \"Initializing...\" message\n",
    "    init_img = np.zeros((200, 600, 3), dtype=np.uint8)\n",
    "    cv2.putText(init_img, \"Initializing Camera...\", \n",
    "               (50, 100), cv2.FONT_HERSHEY_SIMPLEX, 1, (255,255,255), 2)\n",
    "    cv2.imshow(\"Initializing\", init_img)\n",
    "    cv2.waitKey(1000)\n",
    "    cv2.destroyWindow(\"Initializing\")\n",
    "    time.sleep(3)\n",
    "    while cap.isOpened():\n",
    "        ret, frame = cap.read()\n",
    "        if not ret:\n",
    "            break\n",
    "\n",
    "        image, results = mediapipe_hand_detection(frame, hands)\n",
    "        draw_hand_landmarks(image, results)\n",
    "        \n",
    "        keypoints = extract_keypoints(results)\n",
    "        sequence.append(keypoints)\n",
    "        sequence = sequence[-30:]\n",
    "        \n",
    "        if len(sequence) == 30:\n",
    "            res = model.predict(np.expand_dims(sequence, axis=0))[0]\n",
    "            predictions.append(np.argmax(res))\n",
    "            \n",
    "            current_time = time.time()\n",
    "            if current_time - last_prediction_time > cooldown_period:\n",
    "                if np.unique(predictions[-10:])[0] == np.argmax(res): \n",
    "                    if res[np.argmax(res)] > threshold: \n",
    "                        if len(sentence) > 0: \n",
    "                            if actions[np.argmax(res)] != sentence[-1]:\n",
    "                                sentence.append(actions[np.argmax(res)])\n",
    "                                last_prediction_time = current_time\n",
    "                        else:\n",
    "                            sentence.append(actions[np.argmax(res)])\n",
    "                            last_prediction_time = current_time\n",
    "\n",
    "            if len(sentence) > 5: \n",
    "                sentence = sentence[-5:]\n",
    "\n",
    "            image = prob_viz(res, actions, image, colors)\n",
    "        \n",
    "            if 'fullstop' in sentence:\n",
    "                clean_sentence_list = clean_sentence(sentence)\n",
    "                # Clean the sentence before processing\n",
    "                clean_sentence_list = clean_sentence(sentence)\n",
    "                \n",
    "                if len(clean_sentence_list) > 0:  # Only process if we have actual words\n",
    "                    print(f\"Processing sentence: {clean_sentence_list}\")\n",
    "                    process_nlu_and_tts_thread(clean_sentence_list, selected_lang)\n",
    "                    \n",
    "                    # Clear the sentence list completely\n",
    "                    sentence = []\n",
    "                    \n",
    "                    # Add cooldown to prevent immediate re-detection\n",
    "                    last_prediction_time = time.time() + 5  # 5 second cooldown\n",
    "                # process_nlu_and_tts_thread(sign_sequence, selected_lang)\n",
    "                # sentence = []\n",
    "            \n",
    "        cv2.rectangle(image, (0, 0), (640, 40), (245, 117, 16), -1)\n",
    "        display_sentence = ' '.join(clean_sentence(sentence))  # Display without fullstop\n",
    "        cv2.putText(image, display_sentence, (3, 30), \n",
    "                       cv2.FONT_HERSHEY_SIMPLEX, 1, (255, 255, 255), 2, cv2.LINE_AA)\n",
    "        \n",
    "        # Display caption if available\n",
    "        if current_caption:\n",
    "            cv2.putText(image, current_caption, (10, image.shape[0]-20),\n",
    "                       cv2.FONT_HERSHEY_SIMPLEX, 0.7, (255,255,0), 2)\n",
    "        \n",
    "        cv2.imshow('OpenCV Feed', image)\n",
    "\n",
    "        if cv2.waitKey(10) & 0xFF == ord('q'):\n",
    "            break\n",
    "            \n",
    "cap.release()\n",
    "cv2.destroyAllWindows()"
   ]
  },
  {
   "cell_type": "code",
   "execution_count": null,
   "metadata": {
    "tags": []
   },
   "outputs": [],
   "source": [
    "pip install sounddevice soundfile"
   ]
  },
  {
   "cell_type": "code",
   "execution_count": null,
   "metadata": {
    "tags": []
   },
   "outputs": [],
   "source": [
    "from gtts import gTTS\n",
    "import soundfile as sf\n",
    "import io\n",
    "import sounddevice as sd\n",
    "\n",
    "def test_tts():\n",
    "    tts = gTTS(\"Hello world\", lang='en')\n",
    "    fp = io.BytesIO()\n",
    "    tts.write_to_fp(fp)\n",
    "    fp.seek(0)\n",
    "    data, samplerate = sf.read(fp)\n",
    "    sd.play(data, samplerate)\n",
    "    sd.wait()\n",
    "\n",
    "test_tts()"
   ]
  },
  {
   "cell_type": "code",
   "execution_count": null,
   "metadata": {
    "tags": []
   },
   "outputs": [],
   "source": [
    "model_NLU = TFAutoModelForSeq2SeqLM.from_pretrained(\"./fine_tuned_t5(3)/\")\n",
    "tokenizer = AutoTokenizer.from_pretrained(\"./fine_tuned_t5(3)/\")"
   ]
  },
  {
   "cell_type": "code",
   "execution_count": null,
   "metadata": {
    "tags": []
   },
   "outputs": [],
   "source": [
    "def predict_sentence(model, sentence):\n",
    "    inputs = tokenizer(sentence, return_tensors='tf', padding=True, truncation=True)\n",
    "    output = model.generate(inputs['input_ids'])\n",
    "    predicted_sentence = tokenizer.decode(output[0], skip_special_tokens=True)\n",
    "    return predicted_sentence\n",
    "\n",
    "# Example usage\n",
    "# Example prediction\n",
    "test_sentence = \"who u\"\n",
    "model = TFAutoModelForSeq2SeqLM.from_pretrained(\"./fine_tuned_t5(3)/\")\n",
    "print(\"Original:\", test_sentence)\n",
    "print(\"Predicted:\", predict_sentence(model, test_sentence))\n",
    "print(\"Prediction completed.\")\n",
    "\n",
    "\n",
    "# test_input = \"hello i good\"\n",
    "# inputs = tokenizer(test_input, return_tensors='tf', padding=True, truncation=True)\n",
    "# output = model_NLU.generate(inputs['input_ids'])\n",
    "# prediction = tokenizer.decode(output[0], skip_special_tokens=True)\n",
    "# print(prediction)"
   ]
  },
  {
   "cell_type": "code",
   "execution_count": null,
   "metadata": {},
   "outputs": [],
   "source": []
  },
  {
   "cell_type": "code",
   "execution_count": null,
   "metadata": {},
   "outputs": [],
   "source": []
  },
  {
   "cell_type": "code",
   "execution_count": 2,
   "metadata": {
    "tags": []
   },
   "outputs": [],
   "source": [
    "import os\n",
    "import numpy as np\n",
    "import matplotlib.pyplot as plt\n",
    "import seaborn as sns\n",
    "from sklearn.metrics import confusion_matrix, classification_report, accuracy_score\n",
    "from sklearn.manifold import TSNE\n",
    "from tensorflow.keras.models import Sequential\n",
    "from tensorflow.keras.layers import LSTM, Dense\n",
    "from tensorflow.keras.utils import to_categorical\n",
    "from tensorflow.keras.models import load_model\n",
    "import tensorflow as tf"
   ]
  },
  {
   "cell_type": "code",
   "execution_count": 3,
   "metadata": {
    "tags": []
   },
   "outputs": [],
   "source": [
    "DATA_PATH = os.path.join('first_pov_DATA')"
   ]
  },
  {
   "cell_type": "code",
   "execution_count": 4,
   "metadata": {
    "tags": []
   },
   "outputs": [],
   "source": [
    "actions = np.array(['hello', 'good', 'morning', 'thank you', 'name', 'you', 'I', 'work', 'engineer', 'from', 'okay', \n",
    "                    'fine', 'mumbai', 'how', 'what', 'who', 'fullstop','no'])"
   ]
  },
  {
   "cell_type": "code",
   "execution_count": 5,
   "metadata": {
    "tags": []
   },
   "outputs": [],
   "source": [
    "sequence_length = 30"
   ]
  },
  {
   "cell_type": "code",
   "execution_count": 6,
   "metadata": {
    "tags": []
   },
   "outputs": [],
   "source": [
    "model_path = './firstpov_model/model_epoch_24.h5'"
   ]
  },
  {
   "cell_type": "code",
   "execution_count": 7,
   "metadata": {
    "tags": []
   },
   "outputs": [],
   "source": [
    "# === REBUILD LABEL MAP ===\n",
    "label_map = {label: num for num, label in enumerate(actions)}"
   ]
  },
  {
   "cell_type": "code",
   "execution_count": 8,
   "metadata": {
    "tags": []
   },
   "outputs": [],
   "source": [
    "# === LOAD SEQUENCES AND LABELS FROM DISK ===\n",
    "sequences, labels = [], []\n",
    "for action in actions:\n",
    "    for sequence in os.listdir(os.path.join(DATA_PATH, action)):\n",
    "        window = []\n",
    "        for frame_num in range(sequence_length):\n",
    "            path = os.path.join(DATA_PATH, action, sequence, f\"{frame_num}.npy\")\n",
    "            res = np.load(path)\n",
    "            window.append(res)\n",
    "        sequences.append(window)\n",
    "        labels.append(label_map[action])"
   ]
  },
  {
   "cell_type": "code",
   "execution_count": null,
   "metadata": {},
   "outputs": [],
   "source": [
    "# === LOAD SEQUENCES AND LABELS FROM DISK ===\n",
    "sequences, labels = [], []\n",
    "\n",
    "print(f\"\\n📥 Loading dataset from: {DATA_PATH}\\n\")\n",
    "\n",
    "for action in actions:\n",
    "    action_path = os.path.join(DATA_PATH, action)\n",
    "    action_sequences = os.listdir(action_path)\n",
    "    print(f\"▶ Loading action: '{action}' ({len(action_sequences)} sequences)\")\n",
    "\n",
    "    for sequence in action_sequences:\n",
    "        window = []\n",
    "        for frame_num in range(sequence_length):\n",
    "            path = os.path.join(action_path, sequence, f\"{frame_num}.npy\")\n",
    "            try:\n",
    "                res = np.load(path)\n",
    "                window.append(res)\n",
    "            except FileNotFoundError:\n",
    "                print(f\"⚠️ Missing: {path}\")\n",
    "                continue\n",
    "        if len(window) == sequence_length:\n",
    "            sequences.append(window)\n",
    "            labels.append(label_map[action])\n",
    "            print(f\"    ✅ Loaded sequence {sequence} for '{action}'\")\n",
    "        else:\n",
    "            print(f\"    ❌ Incomplete sequence {sequence} for '{action}', skipped.\")\n",
    "\n",
    "    print(f\"✔️ Completed loading for action: '{action}'\\n\")\n",
    "\n",
    "print(f\"✅ Finished loading all data: {len(sequences)} samples total.\")"
   ]
  },
  {
   "cell_type": "code",
   "execution_count": 9,
   "metadata": {
    "tags": []
   },
   "outputs": [],
   "source": [
    "X = np.array(sequences)  # Shape: (num_samples, 30, 126)\n",
    "y = to_categorical(labels).astype(int)  # One-hot encoding"
   ]
  },
  {
   "cell_type": "code",
   "execution_count": 10,
   "metadata": {
    "tags": []
   },
   "outputs": [],
   "source": [
    "# === SPLIT DATA ===\n",
    "from sklearn.model_selection import train_test_split\n",
    "X_train, X_test, y_train, y_test = train_test_split(X, y, test_size=0.2, random_state=42)\n",
    "y_test_sparse = np.argmax(y_test, axis=1)"
   ]
  },
  {
   "cell_type": "code",
   "execution_count": 11,
   "metadata": {
    "tags": []
   },
   "outputs": [],
   "source": [
    "# === REBUILD THE MODEL ARCHITECTURE ===\n",
    "model = Sequential()\n",
    "model.add(LSTM(64, return_sequences=True, input_shape=(30, 126)))\n",
    "model.add(LSTM(64, return_sequences=False))\n",
    "model.add(Dense(64, activation='relu'))\n",
    "model.add(Dense(len(actions), activation='softmax'))\n",
    "model.compile(optimizer='adam', loss='sparse_categorical_crossentropy', metrics=['accuracy'])"
   ]
  },
  {
   "cell_type": "code",
   "execution_count": 12,
   "metadata": {
    "tags": []
   },
   "outputs": [],
   "source": [
    "# === LOAD TRAINED WEIGHTS ===\n",
    "model.load_weights(model_path)"
   ]
  },
  {
   "cell_type": "code",
   "execution_count": 13,
   "metadata": {
    "tags": []
   },
   "outputs": [
    {
     "name": "stdout",
     "output_type": "stream",
     "text": [
      "12/12 [==============================] - 4s 29ms/step - loss: 0.0236 - accuracy: 0.9917\n",
      "\n",
      "✅ Test Loss: 0.0236\n",
      "✅ Test Accuracy: 0.9917\n"
     ]
    }
   ],
   "source": [
    "# === EVALUATE ===\n",
    "loss, accuracy = model.evaluate(X_test, y_test_sparse, batch_size=32)\n",
    "print(f\"\\n✅ Test Loss: {loss:.4f}\")\n",
    "print(f\"✅ Test Accuracy: {accuracy:.4f}\")"
   ]
  },
  {
   "cell_type": "code",
   "execution_count": 14,
   "metadata": {
    "tags": []
   },
   "outputs": [
    {
     "name": "stdout",
     "output_type": "stream",
     "text": [
      "12/12 [==============================] - 2s 27ms/step\n"
     ]
    }
   ],
   "source": [
    "# === PREDICT ===\n",
    "y_pred_probs = model.predict(X_test)\n",
    "y_pred = np.argmax(y_pred_probs, axis=1)"
   ]
  },
  {
   "cell_type": "code",
   "execution_count": 15,
   "metadata": {
    "tags": []
   },
   "outputs": [
    {
     "name": "stdout",
     "output_type": "stream",
     "text": [
      "\n",
      "📊 Overall Accuracy: 0.9917\n"
     ]
    }
   ],
   "source": [
    "# === SAVE ACCURACY SCORE ===\n",
    "overall_accuracy = accuracy_score(y_test_sparse, y_pred)\n",
    "print(f\"\\n📊 Overall Accuracy: {overall_accuracy:.4f}\")"
   ]
  },
  {
   "cell_type": "code",
   "execution_count": 16,
   "metadata": {
    "tags": []
   },
   "outputs": [
    {
     "name": "stdout",
     "output_type": "stream",
     "text": [
      "\n",
      "📄 Classification Report:\n",
      "              precision    recall  f1-score   support\n",
      "\n",
      "       hello       0.94      1.00      0.97        17\n",
      "        good       1.00      1.00      1.00        15\n",
      "     morning       1.00      0.95      0.98        21\n",
      "   thank you       0.96      1.00      0.98        26\n",
      "        name       1.00      1.00      1.00        23\n",
      "         you       1.00      1.00      1.00        25\n",
      "           I       1.00      1.00      1.00        18\n",
      "        work       1.00      1.00      1.00        19\n",
      "    engineer       1.00      1.00      1.00        18\n",
      "        from       1.00      0.94      0.97        18\n",
      "        okay       1.00      1.00      1.00        17\n",
      "        fine       1.00      1.00      1.00        15\n",
      "      mumbai       1.00      1.00      1.00        22\n",
      "         how       0.96      1.00      0.98        24\n",
      "        what       1.00      1.00      1.00        22\n",
      "         who       1.00      0.95      0.97        19\n",
      "    fullstop       1.00      1.00      1.00        15\n",
      "          no       1.00      1.00      1.00        26\n",
      "\n",
      "    accuracy                           0.99       360\n",
      "   macro avg       0.99      0.99      0.99       360\n",
      "weighted avg       0.99      0.99      0.99       360\n",
      "\n"
     ]
    }
   ],
   "source": [
    "# === CLASSIFICATION REPORT ===\n",
    "print(\"\\n📄 Classification Report:\")\n",
    "print(classification_report(y_test_sparse, y_pred, target_names=actions))"
   ]
  },
  {
   "cell_type": "code",
   "execution_count": 17,
   "metadata": {
    "tags": []
   },
   "outputs": [
    {
     "data": {
      "image/png": "[encoded data removed]",
      "text/plain": [
       "<Figure size 1200x1000 with 2 Axes>"
      ]
     },
     "metadata": {},
     "output_type": "display_data"
    }
   ],
   "source": [
    "# === CONFUSION MATRIX HEATMAP ===\n",
    "cm = confusion_matrix(y_test_sparse, y_pred)\n",
    "plt.figure(figsize=(12, 10))\n",
    "sns.heatmap(cm, annot=True, fmt='d', cmap='Blues', xticklabels=actions, yticklabels=actions)\n",
    "plt.xlabel('Predicted Label')\n",
    "plt.ylabel('True Label')\n",
    "plt.title('Confusion Matrix Heatmap')\n",
    "plt.xticks(rotation=45)\n",
    "plt.yticks(rotation=45)\n",
    "plt.tight_layout()\n",
    "plt.savefig(\"confusion_matrix.png\", dpi=300)\n",
    "plt.show()"
   ]
  },
  {
   "cell_type": "code",
   "execution_count": 18,
   "metadata": {
    "tags": []
   },
   "outputs": [
    {
     "name": "stdout",
     "output_type": "stream",
     "text": [
      "⏳ Generating t-SNE projection (this may take a minute)...\n",
      "12/12 [==============================] - 2s 26ms/step\n"
     ]
    }
   ],
   "source": [
    "# === OPTIONAL: t-SNE FEATURE SPACE VISUALIZATION ===\n",
    "print(\"⏳ Generating t-SNE projection (this may take a minute)...\")\n",
    "feature_model = tf.keras.Model(inputs=model.input, outputs=model.layers[-2].output)\n",
    "features = feature_model.predict(X_test)"
   ]
  },
  {
   "cell_type": "code",
   "execution_count": 19,
   "metadata": {
    "tags": []
   },
   "outputs": [],
   "source": [
    "tsne = TSNE(n_components=2, random_state=42)\n",
    "tsne_results = tsne.fit_transform(features)"
   ]
  },
  {
   "cell_type": "code",
   "execution_count": 20,
   "metadata": {
    "tags": []
   },
   "outputs": [
    {
     "data": {
      "image/png": "[encoded data removed]",
      "text/plain": [
       "<Figure size 1200x800 with 1 Axes>"
      ]
     },
     "metadata": {},
     "output_type": "display_data"
    }
   ],
   "source": [
    "plt.figure(figsize=(12, 8))\n",
    "sns.scatterplot(x=tsne_results[:, 0], y=tsne_results[:, 1], hue=[actions[i] for i in y_test_sparse], palette='tab10')\n",
    "plt.title(\"t-SNE Projection of Feature Embeddings\")\n",
    "plt.legend(loc='best', bbox_to_anchor=(1.05, 1))\n",
    "plt.tight_layout()\n",
    "plt.savefig(\"tsne_projection.png\", dpi=300)\n",
    "plt.show()"
   ]
  },
  {
   "cell_type": "code",
   "execution_count": 21,
   "metadata": {
    "tags": []
   },
   "outputs": [
    {
     "name": "stdout",
     "output_type": "stream",
     "text": [
      "\n",
      "📁 Saved: 'confusion_matrix.png' and 'tsne_projection.png'\n"
     ]
    }
   ],
   "source": [
    "print(\"\\n📁 Saved: 'confusion_matrix.png' and 'tsne_projection.png'\")"
   ]
  },
  {
   "cell_type": "code",
   "execution_count": null,
   "metadata": {},
   "outputs": [],
   "source": []
  },
  {
   "cell_type": "code",
   "execution_count": null,
   "metadata": {},
   "outputs": [],
   "source": []
  },
  {
   "cell_type": "code",
   "execution_count": null,
   "metadata": {},
   "outputs": [],
   "source": []
  },
  {
   "cell_type": "code",
   "execution_count": null,
   "metadata": {},
   "outputs": [],
   "source": []
  },
  {
   "cell_type": "code",
   "execution_count": null,
   "metadata": {},
   "outputs": [],
   "source": [
    "draw_hand_landmarks(frame, results)"
   ]
  },
  {
   "cell_type": "code",
   "execution_count": null,
   "metadata": {},
   "outputs": [],
   "source": []
  },
  {
   "cell_type": "code",
   "execution_count": null,
   "metadata": {},
   "outputs": [],
   "source": [
    "plt.imshow(cv2.cvtColor(frame, cv2.COLOR_BGR2RGB))"
   ]
  },
  {
   "cell_type": "markdown",
   "metadata": {},
   "source": [
    "# 3. Extract Keypoint Values"
   ]
  },
  {
   "cell_type": "code",
   "execution_count": null,
   "metadata": {},
   "outputs": [],
   "source": [
    "if results.multi_hand_landmarks:\n",
    "    for hand_landmarks in results.multi_hand_landmarks:\n",
    "        print(len(hand_landmarks.landmark))  # Length will always be 21 for detected hands\n"
   ]
  },
  {
   "cell_type": "code",
   "execution_count": null,
   "metadata": {},
   "outputs": [],
   "source": [
    "import numpy as np\n",
    "\n",
    "def extract_keypoints(results):\n",
    "    # Initialize left and right hand keypoints as zero arrays\n",
    "    lh = np.zeros(21 * 3)\n",
    "    rh = np.zeros(21 * 3)\n",
    "\n",
    "    # Check if hands are detected\n",
    "    if results.multi_hand_landmarks and results.multi_handedness:\n",
    "        for hand_index, hand_landmarks in enumerate(results.multi_hand_landmarks):\n",
    "            # Determine if the hand is left or right\n",
    "            hand_label = results.multi_handedness[hand_index].classification[0].label\n",
    "            hand_array = np.array([[res.x, res.y, res.z] for res in hand_landmarks.landmark]).flatten()\n",
    "\n",
    "            if hand_label.lower() == \"left\":\n",
    "                lh = hand_array\n",
    "            elif hand_label.lower() == \"right\":\n",
    "                rh = hand_array\n",
    "\n",
    "    # Return concatenated hand keypoints\n",
    "    return np.concatenate([lh, rh])"
   ]
  },
  {
   "cell_type": "code",
   "execution_count": null,
   "metadata": {},
   "outputs": [],
   "source": [
    "result_test = extract_keypoints(results)"
   ]
  },
  {
   "cell_type": "code",
   "execution_count": null,
   "metadata": {},
   "outputs": [],
   "source": [
    "np.save('0', result_test)\n"
   ]
  },
  {
   "cell_type": "code",
   "execution_count": null,
   "metadata": {},
   "outputs": [],
   "source": [
    "loaded_result_test = np.load('0.npy')\n"
   ]
  },
  {
   "cell_type": "code",
   "execution_count": null,
   "metadata": {},
   "outputs": [],
   "source": [
    "print(\"Extracted Keypoints:\", loaded_result_test)"
   ]
  },
  {
   "cell_type": "markdown",
   "metadata": {},
   "source": [
    "# 4. Setup Folders for Collection"
   ]
  },
  {
   "cell_type": "code",
   "execution_count": null,
   "metadata": {},
   "outputs": [],
   "source": [
    "# Path for exported data, numpy arrays\n",
    "DATA_PATH = os.path.join('first_pov_DATA')\n",
    "\n",
    "# Actions that we try to detect\n",
    "actions = np.array(['hello', 'good', 'morning', 'thank you', 'name', 'you', 'I', 'work', 'engineer', 'from', 'okay', \n",
    "                    'fine', 'mumbai', 'how', 'what', 'who', 'fullstop','no'])\n",
    "\n",
    "# Thirty videos worth of data (Number of sequences/videos for each action)\n",
    "no_sequences = 100\n",
    "\n",
    "# Videos are going to be 30 frames in length (frames per sequence)\n",
    "sequence_length = 30"
   ]
  },
  {
   "cell_type": "markdown",
   "metadata": {},
   "source": [
    "# 5. Collect Keypoint Values for Training and Testing"
   ]
  },
  {
   "cell_type": "code",
   "execution_count": null,
   "metadata": {
    "scrolled": true
   },
   "outputs": [],
   "source": [
    "import os\n",
    "import numpy as np\n",
    "import cv2\n",
    "\n",
    "\n",
    "# Action to process\n",
    "current_action = \"fullstop\"\n",
    "\n",
    "# Directory for the action\n",
    "action_path = os.path.join(DATA_PATH, current_action)\n",
    "\n",
    "# Check if action exists in dataset\n",
    "if current_action in actions and os.path.exists(action_path):\n",
    "    for sequence in range(1, no_sequences + 1):\n",
    "        sequence_folder = os.path.join(action_path, str(sequence))\n",
    "        \n",
    "        if os.path.exists(sequence_folder):\n",
    "            print(f\"Processing sequence folder: {sequence_folder}\")\n",
    "            \n",
    "            for frame_num in range(sequence_length):\n",
    "                npy_path = os.path.join(sequence_folder, f\"{frame_num}.npy\")\n",
    "                \n",
    "                if os.path.exists(npy_path):\n",
    "                    # Load the .npy file\n",
    "                    keypoints = np.load(npy_path)\n",
    "                    \n",
    "                    # Here you can process the keypoints (e.g., use for training, visualization, etc.)\n",
    "                    print(f\"Frame {frame_num} keypoints shape: {keypoints.shape}\")\n",
    "                    \n",
    "                else:\n",
    "                    print(f\"Frame {frame_num} does not exist in {sequence_folder}\")\n",
    "        else:\n",
    "            print(f\"Sequence folder {sequence_folder} does not exist!\")\n",
    "else:\n",
    "    print(f\"Action '{current_action}' does not exist in dataset!\")\n",
    "\n",
    "print(\"Dataset processing completed!\")\n"
   ]
  },
  {
   "cell_type": "markdown",
   "metadata": {},
   "source": [
    "# 6. Preprocess Data and Create Labels and Features"
   ]
  },
  {
   "cell_type": "code",
   "execution_count": null,
   "metadata": {},
   "outputs": [],
   "source": [
    "from sklearn.model_selection import train_test_split\n",
    "from tensorflow.keras.utils import to_categorical"
   ]
  },
  {
   "cell_type": "code",
   "execution_count": null,
   "metadata": {},
   "outputs": [],
   "source": [
    "label_map = {label:num for num, label in enumerate(actions)}"
   ]
  },
  {
   "cell_type": "code",
   "execution_count": null,
   "metadata": {},
   "outputs": [],
   "source": [
    "label_map"
   ]
  },
  {
   "cell_type": "code",
   "execution_count": null,
   "metadata": {},
   "outputs": [],
   "source": [
    "sequences, labels = [], []\n",
    "for action in actions:\n",
    "    for sequence in np.array(os.listdir(os.path.join(DATA_PATH, action))).astype(int):\n",
    "        window = []\n",
    "        for frame_num in range(sequence_length):\n",
    "            res = np.load(os.path.join(DATA_PATH, action, str(sequence), \"{}.npy\".format(frame_num)))\n",
    "            window.append(res)\n",
    "        sequences.append(window)\n",
    "        labels.append(label_map[action])"
   ]
  },
  {
   "cell_type": "code",
   "execution_count": null,
   "metadata": {},
   "outputs": [],
   "source": [
    "np.array(sequences).shape"
   ]
  },
  {
   "cell_type": "code",
   "execution_count": null,
   "metadata": {},
   "outputs": [],
   "source": [
    "np.array(labels).shape"
   ]
  },
  {
   "cell_type": "code",
   "execution_count": null,
   "metadata": {},
   "outputs": [],
   "source": [
    "X = np.array(sequences)"
   ]
  },
  {
   "cell_type": "code",
   "execution_count": null,
   "metadata": {},
   "outputs": [],
   "source": [
    "X.shape"
   ]
  },
  {
   "cell_type": "code",
   "execution_count": null,
   "metadata": {},
   "outputs": [],
   "source": [
    "y = to_categorical(labels).astype(int)"
   ]
  },
  {
   "cell_type": "code",
   "execution_count": null,
   "metadata": {},
   "outputs": [],
   "source": [
    "X_train, X_test, y_train, y_test = train_test_split(X, y, test_size=0.2)"
   ]
  },
  {
   "cell_type": "code",
   "execution_count": null,
   "metadata": {},
   "outputs": [],
   "source": [
    "y_test.shape"
   ]
  },
  {
   "cell_type": "code",
   "execution_count": null,
   "metadata": {},
   "outputs": [],
   "source": [
    "print(X_train.shape, y_train.shape)\n"
   ]
  },
  {
   "cell_type": "code",
   "execution_count": null,
   "metadata": {},
   "outputs": [],
   "source": [
    "y_train_sparse = np.argmax(y_train, axis=1)\n",
    "print(y_train_sparse.shape)  # Should be (1600,)\n"
   ]
  },
  {
   "cell_type": "code",
   "execution_count": null,
   "metadata": {},
   "outputs": [],
   "source": [
    "print(\"y_train_sparse shape:\", y_train_sparse.shape)\n",
    "print(\"First 5 entries in y_train_sparse:\", y_train_sparse[:5])\n"
   ]
  },
  {
   "cell_type": "code",
   "execution_count": null,
   "metadata": {},
   "outputs": [],
   "source": [
    "print(f\"Input shape for prediction: {np.expand_dims(sequence, axis=0).shape}\")\n"
   ]
  },
  {
   "cell_type": "markdown",
   "metadata": {},
   "source": [
    "# 7. Build and Train LSTM Neural Network"
   ]
  },
  {
   "cell_type": "code",
   "execution_count": null,
   "metadata": {},
   "outputs": [],
   "source": [
    "from tensorflow.keras.models import Sequential\n",
    "from tensorflow.keras.layers import LSTM, Dense\n",
    "from tensorflow.keras.callbacks import TensorBoard, ModelCheckpoint, LambdaCallback\n",
    "import os"
   ]
  },
  {
   "cell_type": "code",
   "execution_count": null,
   "metadata": {},
   "outputs": [],
   "source": [
    "log_dir = os.path.join('Logs')\n",
    "tb_callback = TensorBoard(log_dir=log_dir)"
   ]
  },
  {
   "cell_type": "code",
   "execution_count": null,
   "metadata": {},
   "outputs": [],
   "source": [
    "# Setup the custom LambdaCallback to save model at every even epoch\n",
    "checkpoint_dir = os.path.join('checkpoints_fpov(w/o stop)(3)')\n",
    "os.makedirs(checkpoint_dir, exist_ok=True)\n",
    "\n",
    "def save_at_even_epochs(epoch, logs):\n",
    "    if epoch % 2 == 0:  # Check if epoch is even\n",
    "        model.save(os.path.join(checkpoint_dir, f'model_epoch_{epoch}.h5'))\n",
    "        print(f\"Saved model at epoch {epoch}\")\n",
    "        \n",
    "    # # Optionally print the training and validation losses and accuracies for each epoch\n",
    "    # print(\"/n\"\n",
    "    #     + f\"Epoch {epoch}: \"\n",
    "    #       f\"Training Loss = {logs['loss']}, Validation Loss = {logs['val_loss']}, \"\n",
    "    #       f\"Training Accuracy = {logs['categorical_accuracy']}, Validation Accuracy = {logs['val_categorical_accuracy']}\")\n",
    "\n",
    "# Using LambdaCallback to save model at every even epoch\n",
    "checkpoint_callback = LambdaCallback(on_epoch_end=save_at_even_epochs)"
   ]
  },
  {
   "cell_type": "code",
   "execution_count": null,
   "metadata": {},
   "outputs": [],
   "source": [
    "model = Sequential()\n",
    "model.add(LSTM(64, return_sequences=True, input_shape=(30, 126)))  # First LSTM layer returns sequences\n",
    "model.add(LSTM(64, return_sequences=False))  # Second LSTM layer outputs only the final vector\n",
    "model.add(Dense(64, activation='relu'))\n",
    "model.add(Dense(18, activation='softmax'))  # Output layer with 19 classes\n"
   ]
  },
  {
   "cell_type": "code",
   "execution_count": null,
   "metadata": {},
   "outputs": [],
   "source": [
    "from tensorflow.keras.optimizers import Adam\n",
    "model.compile(optimizer=Adam(learning_rate=0.001), loss='sparse_categorical_crossentropy', metrics=['accuracy'])\n"
   ]
  },
  {
   "cell_type": "code",
   "execution_count": null,
   "metadata": {},
   "outputs": [],
   "source": [
    "y_test_sparse = np.argmax(y_test, axis=1)  # Converts one-hot encoded labels to integer class labels\n"
   ]
  },
  {
   "cell_type": "code",
   "execution_count": null,
   "metadata": {},
   "outputs": [],
   "source": [
    "print(\"y_test_sparse shape:\", y_test_sparse.shape)\n",
    "print(\"Unique values in y_test_sparse:\", np.unique(y_test_sparse))  # Should range from 0 to 18\n"
   ]
  },
  {
   "cell_type": "code",
   "execution_count": null,
   "metadata": {},
   "outputs": [],
   "source": [
    "from tensorflow.keras.callbacks import ReduceLROnPlateau, EarlyStopping\n",
    "from sklearn.utils.class_weight import compute_class_weight\n",
    "import numpy as np\n",
    "\n",
    "class_weights = compute_class_weight(\n",
    "    class_weight='balanced',\n",
    "    classes=np.unique(y_train_sparse),\n",
    "    y=y_train_sparse\n",
    ")\n",
    "class_weights_dict = dict(enumerate(class_weights))\n",
    "\n",
    "# Define learning rate scheduler\n",
    "lr_scheduler = ReduceLROnPlateau(monitor='loss', factor=0.5, patience=5, verbose=1)\n",
    "\n",
    "# Early stopping callback\n",
    "early_stopping = EarlyStopping(monitor='val_loss', patience=5, restore_best_weights=True)\n",
    "\n",
    "# Fit the model with the callbacks\n",
    "model.fit(\n",
    "    X_train, y_train_sparse, \n",
    "    class_weight=class_weights_dict,\n",
    "    validation_split=0.2,\n",
    "    epochs=30, batch_size=32,\n",
    "    callbacks=[tb_callback, checkpoint_callback, lr_scheduler, early_stopping]\n",
    ")\n"
   ]
  },
  {
   "cell_type": "code",
   "execution_count": null,
   "metadata": {},
   "outputs": [],
   "source": [
    "loss, accuracy = model.evaluate(X_test, y_test_sparse, batch_size=32)\n",
    "print(f\"Test Loss: {loss}, Test Accuracy: {accuracy}\")\n"
   ]
  },
  {
   "cell_type": "code",
   "execution_count": null,
   "metadata": {},
   "outputs": [],
   "source": [
    "from tensorflow.keras.callbacks import ReduceLROnPlateau, EarlyStopping\n",
    "from sklearn.utils.class_weight import compute_class_weight\n",
    "import numpy as np\n",
    "\n",
    "class_weights = compute_class_weight(\n",
    "    class_weight='balanced',\n",
    "    classes=np.unique(y_train_sparse),\n",
    "    y=y_train_sparse\n",
    ")\n",
    "class_weights_dict = dict(enumerate(class_weights))\n",
    "\n",
    "# Define learning rate scheduler\n",
    "lr_scheduler = ReduceLROnPlateau(monitor='loss', factor=0.5, patience=5, verbose=1)\n",
    "\n",
    "# Early stopping callback\n",
    "early_stopping = EarlyStopping(monitor='val_loss', patience=5, restore_best_weights=True)\n",
    "\n",
    "# Fit the model with the callbacks\n",
    "model.fit(\n",
    "    X_train, y_train_sparse, \n",
    "    class_weight=class_weights_dict,\n",
    "    validation_split=0.2,\n",
    "    epochs=30, batch_size=32,\n",
    "    callbacks=[tb_callback, checkpoint_callback, lr_scheduler, early_stopping]\n",
    ")\n"
   ]
  },
  {
   "cell_type": "code",
   "execution_count": null,
   "metadata": {},
   "outputs": [],
   "source": [
    "loss, accuracy = model.evaluate(X_test, y_test_sparse, batch_size=32)\n",
    "print(f\"Test Loss: {loss}, Test Accuracy: {accuracy}\")\n"
   ]
  },
  {
   "cell_type": "code",
   "execution_count": null,
   "metadata": {},
   "outputs": [],
   "source": [
    "from tensorflow.keras.callbacks import ReduceLROnPlateau, EarlyStopping\n",
    "from sklearn.utils.class_weight import compute_class_weight\n",
    "import numpy as np\n",
    "\n",
    "class_weights = compute_class_weight(\n",
    "    class_weight='balanced',\n",
    "    classes=np.unique(y_train_sparse),\n",
    "    y=y_train_sparse\n",
    ")\n",
    "class_weights_dict = dict(enumerate(class_weights))\n",
    "\n",
    "# Define learning rate scheduler\n",
    "lr_scheduler = ReduceLROnPlateau(monitor='loss', factor=0.5, patience=5, verbose=1)\n",
    "\n",
    "# Early stopping callback\n",
    "early_stopping = EarlyStopping(monitor='val_loss', patience=5, restore_best_weights=True)\n",
    "\n",
    "# Fit the model with the callbacks\n",
    "model.fit(\n",
    "    X_train, y_train_sparse, \n",
    "    class_weight=class_weights_dict,\n",
    "    validation_split=0.2,\n",
    "    epochs=30, batch_size=32,\n",
    "    callbacks=[tb_callback, checkpoint_callback, lr_scheduler, early_stopping]\n",
    ")\n"
   ]
  },
  {
   "cell_type": "code",
   "execution_count": null,
   "metadata": {},
   "outputs": [],
   "source": [
    "loss, accuracy = model.evaluate(X_test, y_test_sparse, batch_size=32)\n",
    "print(f\"Test Loss: {loss}, Test Accuracy: {accuracy}\")\n"
   ]
  },
  {
   "cell_type": "code",
   "execution_count": null,
   "metadata": {},
   "outputs": [],
   "source": [
    "y_test_sparse = np.argmax(y_test, axis=1)  # Converts one-hot encoded labels to integer class labels\n"
   ]
  },
  {
   "cell_type": "code",
   "execution_count": null,
   "metadata": {},
   "outputs": [],
   "source": [
    "print(\"y_test_sparse shape:\", y_test_sparse.shape)\n",
    "print(\"Unique values in y_test_sparse:\", np.unique(y_test_sparse))  # Should range from 0 to 18\n"
   ]
  },
  {
   "cell_type": "code",
   "execution_count": null,
   "metadata": {},
   "outputs": [],
   "source": [
    "model.save('model_with_class_weights(1)(w/o stop).h5')\n"
   ]
  },
  {
   "cell_type": "code",
   "execution_count": null,
   "metadata": {},
   "outputs": [],
   "source": [
    "model.summary()"
   ]
  },
  {
   "cell_type": "code",
   "execution_count": null,
   "metadata": {},
   "outputs": [],
   "source": [
    "print(\"X_train shape:\", X_train.shape)\n"
   ]
  },
  {
   "cell_type": "code",
   "execution_count": null,
   "metadata": {},
   "outputs": [],
   "source": [
    "predictions = model.predict(X_test)\n",
    "y_pred = np.argmax(predictions, axis=1)\n",
    "misclassified_indices = np.where(y_pred != y_test_sparse)[0]\n",
    "print(\"Misclassified samples:\", misclassified_indices)\n"
   ]
  },
  {
   "cell_type": "markdown",
   "metadata": {},
   "source": [
    "# 8. Make Predictions"
   ]
  },
  {
   "cell_type": "code",
   "execution_count": null,
   "metadata": {},
   "outputs": [],
   "source": [
    "res = model.predict(X_test)"
   ]
  },
  {
   "cell_type": "code",
   "execution_count": null,
   "metadata": {},
   "outputs": [],
   "source": [
    "actions[np.argmax(res[1])]"
   ]
  },
  {
   "cell_type": "code",
   "execution_count": null,
   "metadata": {},
   "outputs": [],
   "source": [
    "actions[np.argmax(y_test[1])]"
   ]
  },
  {
   "cell_type": "markdown",
   "metadata": {},
   "source": [
    "# 9. Save Weights"
   ]
  },
  {
   "cell_type": "code",
   "execution_count": null,
   "metadata": {},
   "outputs": [],
   "source": [
    "model.save('action.keras')"
   ]
  },
  {
   "cell_type": "code",
   "execution_count": null,
   "metadata": {},
   "outputs": [],
   "source": [
    "model.save('f_pov.h5')"
   ]
  },
  {
   "cell_type": "code",
   "execution_count": null,
   "metadata": {},
   "outputs": [],
   "source": [
    "# del model"
   ]
  },
  {
   "cell_type": "code",
   "execution_count": null,
   "metadata": {},
   "outputs": [],
   "source": [
    "model.load_weights(\"C:/Users/zaeem/Desktop/sih/sih/ActionDetectionforSignLanguage/checkpoints_fpov(w\\o stop)(1)/model_epoch_24.h5\")"
   ]
  },
  {
   "cell_type": "markdown",
   "metadata": {},
   "source": [
    "# 10. Evaluation using Confusion Matrix and Accuracy"
   ]
  },
  {
   "cell_type": "code",
   "execution_count": null,
   "metadata": {},
   "outputs": [],
   "source": [
    "from sklearn.metrics import multilabel_confusion_matrix, accuracy_score"
   ]
  },
  {
   "cell_type": "code",
   "execution_count": null,
   "metadata": {},
   "outputs": [],
   "source": [
    "yhat = model.predict(X_test)"
   ]
  },
  {
   "cell_type": "code",
   "execution_count": null,
   "metadata": {},
   "outputs": [],
   "source": [
    "ytrue = np.argmax(y_test, axis=1).tolist()\n",
    "yhat = np.argmax(yhat, axis=1).tolist()"
   ]
  },
  {
   "cell_type": "code",
   "execution_count": null,
   "metadata": {},
   "outputs": [],
   "source": [
    "multilabel_confusion_matrix(ytrue, yhat)"
   ]
  },
  {
   "cell_type": "code",
   "execution_count": null,
   "metadata": {},
   "outputs": [],
   "source": [
    "accuracy_score(ytrue, yhat)"
   ]
  },
  {
   "cell_type": "code",
   "execution_count": null,
   "metadata": {},
   "outputs": [],
   "source": [
    "from sklearn.metrics import accuracy_score\n",
    "overall_accuracy = accuracy_score(ytrue, yhat)\n",
    "print(f\"Overall Accuracy: {overall_accuracy}\")\n"
   ]
  },
  {
   "cell_type": "markdown",
   "metadata": {},
   "source": [
    "# 11. Test in Real Time"
   ]
  },
  {
   "cell_type": "code",
   "execution_count": null,
   "metadata": {},
   "outputs": [],
   "source": [
    "from scipy import stats"
   ]
  },
  {
   "cell_type": "code",
   "execution_count": null,
   "metadata": {},
   "outputs": [],
   "source": [
    "colors = [(245,117,16), (117,245,16), (16,117,245)]\n",
    "def prob_viz(res, actions, input_frame, colors):\n",
    "    output_frame = input_frame.copy()\n",
    "    for num, prob in enumerate(res):\n",
    "        cv2.rectangle(output_frame, (0,60+num*40), (int(prob*100), 90+num*40), colors[num], -1)\n",
    "        cv2.putText(output_frame, actions[num], (0, 85+num*40), cv2.FONT_HERSHEY_SIMPLEX, 1, (255,255,255), 2, cv2.LINE_AA)\n",
    "        \n",
    "    return output_frame"
   ]
  },
  {
   "cell_type": "code",
   "execution_count": null,
   "metadata": {},
   "outputs": [],
   "source": [
    "plt.figure(figsize=(18,18))\n",
    "plt.imshow(prob_viz(res, actions, image, colors))"
   ]
  },
  {
   "cell_type": "code",
   "execution_count": null,
   "metadata": {},
   "outputs": [],
   "source": [
    "print(\"Unique classes in ytrue:\", set(ytrue))\n",
    "print(\"Unique classes in yhat:\", set(yhat))"
   ]
  },
  {
   "cell_type": "code",
   "execution_count": null,
   "metadata": {},
   "outputs": [],
   "source": [
    "actions = sorted(list(set(ytrue)))  # Or set(yhat), depending on your preference"
   ]
  },
  {
   "cell_type": "code",
   "execution_count": null,
   "metadata": {},
   "outputs": [],
   "source": [
    "from sklearn.metrics import classification_report\n",
    "\n",
    "# Corrected actions list\n",
    "actions = [str(i) for i in sorted(list(set(ytrue)))]  # Convert to strings\n",
    "\n",
    "# Generate classification report\n",
    "report = classification_report(ytrue, yhat, target_names=actions)\n",
    "print(\"Classification Report:\\n\", report)"
   ]
  },
  {
   "cell_type": "code",
   "execution_count": null,
   "metadata": {},
   "outputs": [],
   "source": [
    "from scipy import stats"
   ]
  },
  {
   "cell_type": "code",
   "execution_count": null,
   "metadata": {},
   "outputs": [],
   "source": [
    "import random\n",
    "actions = np.array(['hello', 'good', 'morning', 'thank you', 'name', 'you', 'I', 'work', 'engineer', 'from', 'okay', \n",
    "                    'fine', 'mumbai', 'how', 'what', 'who', 'fullstop','no'])\n",
    "\n",
    "\n",
    "colors = [tuple(random.randint(0, 255) for _ in range(3)) for _ in range(len(actions))]  # Random colors\n",
    "def prob_viz(res, actions, input_frame, colors):\n",
    "    output_frame = input_frame.copy()\n",
    "    for num, prob in enumerate(res):\n",
    "        cv2.rectangle(output_frame, (0,60+num*40), (int(prob*100), 90+num*40), colors[num], -1)\n",
    "        cv2.putText(output_frame, actions[num], (0, 85+num*40), cv2.FONT_HERSHEY_SIMPLEX, 1, (255,255,255), 2, cv2.LINE_AA)\n",
    "        \n",
    "    return output_frame"
   ]
  },
  {
   "cell_type": "code",
   "execution_count": null,
   "metadata": {},
   "outputs": [],
   "source": [
    "plt.figure(figsize=(18,18))\n",
    "plt.imshow(prob_viz(res, actions, image, colors))"
   ]
  },
  {
   "cell_type": "code",
   "execution_count": null,
   "metadata": {},
   "outputs": [],
   "source": []
  },
  {
   "cell_type": "code",
   "execution_count": null,
   "metadata": {},
   "outputs": [],
   "source": []
  },
  {
   "cell_type": "code",
   "execution_count": null,
   "metadata": {},
   "outputs": [],
   "source": [
    "import time\n",
    "import cv2\n",
    "import numpy as np\n",
    "\n",
    "# New detection variables\n",
    "sequence = []\n",
    "sentence = []\n",
    "predictions = []\n",
    "sign_sequence = []  # To store the complete sequence of signs\n",
    "threshold = 0.5\n",
    "\n",
    "# Cooldown timer\n",
    "last_prediction_time = 3\n",
    "cooldown_period = 5  # in seconds\n",
    "\n",
    "# cap = cv2.VideoCapture(url, cv2.CAP_FFMPEG)\n",
    "cap = cv2.VideoCapture(2)\n",
    "res = np.zeros(len(actions)) \n",
    "\n",
    "# Set mediapipe model\n",
    "with mp_hands.Hands(static_image_mode=False, \n",
    "                    max_num_hands=2, \n",
    "                    min_detection_confidence=0.5, \n",
    "                    min_tracking_confidence=0.5) as hands:\n",
    "    # Wait for 3 seconds before starting detection\n",
    "    print(\"Initializing feed... Waiting for 3 seconds...\")\n",
    "    time.sleep(3)\n",
    "\n",
    "    while cap.isOpened():\n",
    "        # Read feed\n",
    "        ret, frame = cap.read()\n",
    "        if not ret:\n",
    "            break\n",
    "\n",
    "        # Make detections\n",
    "        image, results = mediapipe_hand_detection(frame, hands)\n",
    "        print(results)\n",
    "        \n",
    "        # Draw landmarks\n",
    "        draw_hand_landmarks(image, results)\n",
    "        \n",
    "        # 2. Prediction logic\n",
    "        keypoints = extract_keypoints(results)\n",
    "        sequence.append(keypoints)\n",
    "        sequence = sequence[-30:]\n",
    "        \n",
    "        if len(sequence) == 30:\n",
    "            res = model.predict(np.expand_dims(sequence, axis=0))[0]\n",
    "            predicted_sign = actions[np.argmax(res)]\n",
    "            print(f\"Predicted Sign: {predicted_sign}\")  # Display the current sign in the cmd\n",
    "            predictions.append(np.argmax(res))\n",
    "\n",
    "            # Add sign to sign_sequence if not repeated\n",
    "            if res[np.argmax(res)] > threshold:\n",
    "                if len(sign_sequence) == 0 or sign_sequence[-1] != predicted_sign:\n",
    "                    sign_sequence.append(predicted_sign)\n",
    "\n",
    "        # Check for full stop\n",
    "        if \"fullstop\" in sign_sequence:\n",
    "            print(\"Full stop detected. Final sequence:\", sign_sequence)\n",
    "            break  # Exit the loop upon detecting \"fullstop\"\n",
    "\n",
    "        # 3. Viz logic\n",
    "        current_time = time.time()\n",
    "\n",
    "        if current_time - last_prediction_time > cooldown_period:  # Check cooldown\n",
    "            if len(predictions) >= 10:  # Ensure there are at least 10 predictions\n",
    "                if np.unique(predictions[-10:])[0] == np.argmax(res): \n",
    "                    if res[np.argmax(res)] > threshold: \n",
    "\n",
    "                        if len(sentence) > 0: \n",
    "                            if actions[np.argmax(res)] != sentence[-1]:\n",
    "                                sentence.append(actions[np.argmax(res)])\n",
    "                                last_prediction_time = current_time  # Reset cooldown\n",
    "                        else:\n",
    "                            sentence.append(actions[np.argmax(res)])\n",
    "                            last_prediction_time = current_time  # Reset cooldown\n",
    "\n",
    "        if len(sentence) > 5: \n",
    "            sentence = sentence[-5:]\n",
    "\n",
    "        # Viz probabilities\n",
    "        image = prob_viz(res, actions, image, colors)\n",
    "        \n",
    "        # Show sentence on the screen\n",
    "        cv2.rectangle(image, (0, 0), (640, 40), (245, 117, 16), -1)\n",
    "        cv2.putText(image, ' '.join(sentence), (3, 30), \n",
    "                       cv2.FONT_HERSHEY_SIMPLEX, 1, (255, 255, 255), 2, cv2.LINE_AA)\n",
    "        \n",
    "        # Print the sentence in cmd\n",
    "        print(f\"Signed Text: {' '.join(sentence)}\")  # Display the sentence in the cmd\n",
    "        print(\"Current Sign Sequence:\", sign_sequence)  # Display the sign sequence\n",
    "\n",
    "        # Show to screen\n",
    "        cv2.imshow('OpenCV Feed', image)\n",
    "\n",
    "        # Break gracefully\n",
    "        if cv2.waitKey(10) & 0xFF == ord('q'):\n",
    "            break\n",
    "\n",
    "cap.release()\n",
    "cv2.destroyAllWindows()\n"
   ]
  },
  {
   "cell_type": "code",
   "execution_count": null,
   "metadata": {},
   "outputs": [],
   "source": [
    "cap.release()\n",
    "cv2.destroyAllWindows()"
   ]
  },
  {
   "cell_type": "code",
   "execution_count": null,
   "metadata": {},
   "outputs": [],
   "source": []
  },
  {
   "cell_type": "code",
   "execution_count": null,
   "metadata": {},
   "outputs": [],
   "source": []
  },
  {
   "cell_type": "code",
   "execution_count": null,
   "metadata": {},
   "outputs": [],
   "source": []
  },
  {
   "cell_type": "code",
   "execution_count": null,
   "metadata": {},
   "outputs": [],
   "source": [
    "print(f\"Input shape for prediction: {np.expand_dims(sequence, axis=0).shape}\")\n"
   ]
  },
  {
   "cell_type": "code",
   "execution_count": null,
   "metadata": {
    "scrolled": true
   },
   "outputs": [],
   "source": [
    "pip list\n"
   ]
  },
  {
   "cell_type": "code",
   "execution_count": null,
   "metadata": {},
   "outputs": [],
   "source": [
    "import tensorflow as tf\n",
    "from transformers import T5Tokenizer, T5ForConditionalGeneration, TFAutoModelForSeq2SeqLM, AutoTokenizer\n",
    "\n",
    "# Load your fine-tuned model and tokenizer\n",
    "model = TFAutoModelForSeq2SeqLM.from_pretrained(\"C:/Users/zaeem/Desktop/sih/sih/ActionDetectionforSignLanguage/NLU_model\")\n",
    "tokenizer = AutoTokenizer.from_pretrained(\"C:/Users/zaeem/Desktop/sih/sih/ActionDetectionforSignLanguage/NLU_model\")\n",
    "model = T5ForConditionalGeneration.from_pretrained(nlu_model_path)\n",
    "\n",
    "# Function to translate unstructured sentences to structured sentences\n",
    "def predict_sentence(model, sentence):\n",
    "    inputs = tokenizer(sentence, return_tensors='tf', padding=True, truncation=True)\n",
    "    output = model.generate(inputs['input_ids'])\n",
    "    predicted_sentence = tokenizer.decode(output[0], skip_special_tokens=True)\n",
    "    return predicted_sentence\n",
    "\n",
    "# Function to process the sign sequence and convert it to text\n",
    "def process_sign_to_text(sign_sequence):\n",
    "    # Assuming 'sign_sequence' is a list of actions predicted by the sign language model\n",
    "    sentence = \" \".join(sign_sequence)  # Join the actions into a sentence\n",
    "    return sentence\n",
    "\n",
    "# Step 1: Convert the sign sequence into a sentence\n",
    "test_sentence = process_sign_to_text(sign_sequence)\n",
    "\n",
    "# Step 2: Use the function to predict the structured sentence from the unstructured input\n",
    "print(\"Original (from sign language model):\", test_sentence)\n",
    "predicted_sentence = predict_sentence(model, test_sentence)\n",
    "print(\"Predicted Structured Sentence:\", predicted_sentence)\n",
    "print(\"Prediction completed.\")"
   ]
  },
  {
   "cell_type": "code",
   "execution_count": null,
   "metadata": {},
   "outputs": [],
   "source": []
  },
  {
   "cell_type": "markdown",
   "metadata": {},
   "source": [
    "# NLU Integration "
   ]
  },
  {
   "cell_type": "code",
   "execution_count": null,
   "metadata": {},
   "outputs": [],
   "source": [
    "!pip install transformers==4.20.0"
   ]
  },
  {
   "cell_type": "code",
   "execution_count": null,
   "metadata": {},
   "outputs": [],
   "source": [
    "import tensorflow as tf\n",
    "import transformers\n",
    "\n",
    "print(\"Tensorflow version:\", tf.__version__)\n",
    "print(\"Transformers version:\", transformers.__version__)"
   ]
  },
  {
   "cell_type": "code",
   "execution_count": null,
   "metadata": {},
   "outputs": [],
   "source": [
    "!pip install pandas==1.3.5\n"
   ]
  },
  {
   "cell_type": "code",
   "execution_count": null,
   "metadata": {},
   "outputs": [],
   "source": [
    "import pandas as pd\n",
    "import tensorflow as tf\n",
    "from transformers import TFAutoModelForSeq2SeqLM, AutoTokenizer"
   ]
  },
  {
   "cell_type": "code",
   "execution_count": null,
   "metadata": {},
   "outputs": [],
   "source": [
    "model = TFAutoModelForSeq2SeqLM.from_pretrained(\"C:/Users/zaeem/Desktop/sih/sih/ActionDetectionforSignLanguage/NLU_model\")\n",
    "tokenizer = AutoTokenizer.from_pretrained(\"C:/Users/zaeem/Desktop/sih/sih/ActionDetectionforSignLanguage/NLU_model\")"
   ]
  },
  {
   "cell_type": "code",
   "execution_count": null,
   "metadata": {},
   "outputs": [],
   "source": [
    "# Enable mixed precision\n",
    "policy = tf.keras.mixed_precision.Policy('mixed_float16')\n",
    "tf.keras.mixed_precision.set_global_policy(policy)"
   ]
  },
  {
   "cell_type": "code",
   "execution_count": null,
   "metadata": {},
   "outputs": [],
   "source": [
    "# Function to translate unstructured sentences to structured sentences\n",
    "def predict_sentence(model, sentence):\n",
    "    inputs = tokenizer(sentence, return_tensors='tf', padding=True, truncation=True)\n",
    "    output = model.generate(inputs['input_ids'])\n",
    "    predicted_sentence = tokenizer.decode(output[0], skip_special_tokens=True)\n",
    "    return predicted_sentence\n",
    "\n",
    "# Example usage\n",
    "# Example prediction\n",
    "test_sentence = sign_sequence\n",
    "sent=predict_sentence(model, test_sentence)\n",
    "print(\"Original:\", test_sentence)\n",
    "print(\"Predicted:\", predict_sentence(model, test_sentence))\n",
    "print(\"Prediction completed.\")"
   ]
  },
  {
   "cell_type": "code",
   "execution_count": null,
   "metadata": {},
   "outputs": [],
   "source": []
  },
  {
   "cell_type": "code",
   "execution_count": null,
   "metadata": {},
   "outputs": [],
   "source": [
    "# Function to translate unstructured sentences to structured sentences\n",
    "def predict_sentence(model, sentence):\n",
    "    inputs = tokenizer(sentence, return_tensors='tf', padding=True, truncation=True)\n",
    "    output = model.generate(inputs['input_ids'])\n",
    "    predicted_sentence = tokenizer.decode(output[0], skip_special_tokens=True)\n",
    "    return predicted_sentence\n",
    "\n",
    "# Example usage\n",
    "# Example prediction\n",
    "test_sentence = 'I okay'\n",
    "sent=predict_sentence(model, test_sentence)\n",
    "print(\"Original:\", test_sentence)\n",
    "print(\"Predicted:\", predict_sentence(model, test_sentence))\n",
    "print(\"Prediction completed.\")"
   ]
  },
  {
   "cell_type": "code",
   "execution_count": null,
   "metadata": {},
   "outputs": [],
   "source": []
  },
  {
   "cell_type": "code",
   "execution_count": null,
   "metadata": {},
   "outputs": [],
   "source": []
  },
  {
   "cell_type": "markdown",
   "metadata": {},
   "source": [
    "# Text to Speech"
   ]
  },
  {
   "cell_type": "code",
   "execution_count": null,
   "metadata": {},
   "outputs": [],
   "source": [
    "pip install pyttsx3"
   ]
  },
  {
   "cell_type": "code",
   "execution_count": null,
   "metadata": {},
   "outputs": [],
   "source": [
    "import pyttsx3\n",
    "\n",
    "def text_to_speech(text):\n",
    "    # Initialize the text-to-speech engine\n",
    "    engine = pyttsx3.init()\n",
    "    \n",
    "    # Optional: Customize speech properties\n",
    "    engine.setProperty('rate', 150)  # Speed (default: 200 words per minute)\n",
    "    engine.setProperty('volume', 1.0)  # Volume (0.0 to 1.0)\n",
    "    \n",
    "    # Speak the text\n",
    "    engine.say(text)\n",
    "    engine.runAndWait()\n",
    "\n",
    "# if _name_ == \"_main_\":\n",
    "    # Example text input\n",
    "if __name__ == \"__main__\":\n",
    "    # Example text input\n",
    "    text_to_speech(sent)"
   ]
  },
  {
   "cell_type": "code",
   "execution_count": null,
   "metadata": {},
   "outputs": [],
   "source": []
  }
 ],
 "metadata": {
  "kernelspec": {
   "display_name": "sign",
   "language": "python",
   "name": "sign"
  },
  "language_info": {
   "codemirror_mode": {
    "name": "ipython",
    "version": 3
   },
   "file_extension": ".py",
   "mimetype": "text/x-python",
   "name": "python",
   "nbconvert_exporter": "python",
   "pygments_lexer": "ipython3",
   "version": "3.9.0"
  }
 },
 "nbformat": 4,
 "nbformat_minor": 4
}
